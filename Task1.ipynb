{
 "cells": [
  {
   "cell_type": "code",
   "execution_count": null,
   "metadata": {},
   "outputs": [],
   "source": [
    "#Ques1: Create three variables in a single a line and assign different values to them and make sure their data types are different. Like one is int, another one is float and the last one is a string. \n",
    "a,b,c=10,10.5,\"Vartika\"\n",
    "print(a,b,c)\n",
    "print(type(a))\n",
    "print(type(b))\n",
    "print(type(c))"
   ]
  },
  {
   "cell_type": "code",
   "execution_count": null,
   "metadata": {},
   "outputs": [],
   "source": [
    "#Ques2: Create a variable of value type complex and swap it with another variable whose value is an integer. \n",
    "a=2+3j\n",
    "b=9\n",
    "print(a)\n",
    "print(b)\n",
    "a,b=b,a\n",
    "print(b)\n",
    "print(a)\n",
    "print(type(a))\n",
    "print(type(b))"
   ]
  },
  {
   "cell_type": "code",
   "execution_count": null,
   "metadata": {},
   "outputs": [],
   "source": [
    "#Ques4: Write a program to print the value given by the user by using both Python 2.x and Python 3.x Version. \n",
    "Python 2: x=raw_input(\"Enter the name\")\n",
    "Python 3: x=input(\"Enter the name\")"
   ]
  },
  {
   "cell_type": "code",
   "execution_count": null,
   "metadata": {},
   "outputs": [],
   "source": [
    "#Ques5: Write a program to complete the task given below: \n",
    "#Ask the user to enter any 2 numbers in between 1-10 and add both of them to another variable call z. \n",
    "#Use z for adding 30 into it and print the final result by using variable result. \n",
    "a=int(input(\"Enter the number between 1-10\"))\n",
    "print(a)\n",
    "b=int(input(\"Enter the number between 1-10\"))\n",
    "z=a+b\n",
    "print(\"Sum of the number is\",z)\n",
    "print(type(z))\n",
    "\n",
    "final_result=z+30\n",
    "print(\"Final result is\",final_result)\n",
    "print(type(final_result))"
   ]
  },
  {
   "cell_type": "code",
   "execution_count": null,
   "metadata": {},
   "outputs": [],
   "source": [
    "#Ques3: Swap two numbers using the third variable as the result name and do the same task without using any third variable. \n",
    "#swap two numbers using third variable\n",
    "a=2\n",
    "b=3\n",
    "temp=a\n",
    "a=b\n",
    "b=temp\n",
    "print(a)\n",
    "print(b)\n",
    "#swap two numbers without using third variable (concept of rotation two)\n",
    "a,b=b,a\n",
    "print(a)\n",
    "print(b)"
   ]
  },
  {
   "cell_type": "code",
   "execution_count": null,
   "metadata": {},
   "outputs": [],
   "source": [
    "#Ques8: If one data type value is assigned to ‘a’ variable and then a different data type value is assigned to ‘a’ again. Will it change the value. If Yes then Why? \n",
    "#Ans 8: Yes, the value will be changed as new value will be assigned to 'a' variable and also the memory location will change.\n",
    "\n",
    "a=10\n",
    "print(a)\n",
    "print(type(a))\n",
    "a=10.5\n",
    "print(a)\n",
    "print(type(a))"
   ]
  },
  {
   "cell_type": "code",
   "execution_count": null,
   "metadata": {},
   "outputs": [],
   "source": [
    "#Ques6: Write a program to check the data type of the entered values. HINT: Printed output should say -  The input value data type is: int/float/string/etc \n",
    "\n",
    "a=12\n",
    "b=12.6\n",
    "c=\"Python\"\n",
    "print(\"The input value data type is\",type(a))\n",
    "print(\"The input value data type is\",type(b))\n",
    "print(\"The input value data type is\",type(c))"
   ]
  },
  {
   "cell_type": "markdown",
   "metadata": {},
   "source": []
  },
  {
   "cell_type": "code",
   "execution_count": null,
   "metadata": {},
   "outputs": [],
   "source": [
    "#Ques7:Create Variable using CamelCase, LadderCase and UPPERCASE. (Refer:   https://capitalizemytitle.com/camel-case/) - Variable Conventions to write "
   ]
  },
  {
   "cell_type": "code",
   "execution_count": null,
   "metadata": {},
   "outputs": [],
   "source": [
    "\n"
   ]
  },
  {
   "cell_type": "code",
   "execution_count": null,
   "metadata": {},
   "outputs": [],
   "source": []
  },
  {
   "cell_type": "code",
   "execution_count": null,
   "metadata": {},
   "outputs": [],
   "source": []
  }
 ],
 "metadata": {
  "kernelspec": {
   "display_name": "Python 3",
   "language": "python",
   "name": "python3"
  },
  "language_info": {
   "codemirror_mode": {
    "name": "ipython",
    "version": 3
   },
   "file_extension": ".py",
   "mimetype": "text/x-python",
   "name": "python",
   "nbconvert_exporter": "python",
   "pygments_lexer": "ipython3",
   "version": "3.8.3"
  }
 },
 "nbformat": 4,
 "nbformat_minor": 4
}
