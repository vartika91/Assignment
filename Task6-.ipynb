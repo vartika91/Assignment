{
 "cells": [
  {
   "cell_type": "code",
   "execution_count": 1,
   "metadata": {},
   "outputs": [
    {
     "name": "stdout",
     "output_type": "stream",
     "text": [
      "You cannot divide any number by 0\n"
     ]
    }
   ],
   "source": [
    "#Ques1:\n",
    "try:\n",
    "    a=5\n",
    "    b=0\n",
    "    print(a/b)\n",
    "except:\n",
    "    print('You cannot divide any number by 0')"
   ]
  },
  {
   "cell_type": "code",
   "execution_count": 2,
   "metadata": {},
   "outputs": [
    {
     "name": "stdout",
     "output_type": "stream",
     "text": [
      "Name of File is : ['/home/vartika/anaconda3/lib/python3.8/site-packages/ipykernel_launcher.py', '-f', '/home/vartika/.local/share/jupyter/runtime/kernel-845bfc70-1f79-4733-b469-4cb1a68350e5.json']\n",
      "Name of the file is not correct.\n",
      "Do you want to try one more time (Y/N)?y\n",
      "Successfully open and read the file.\n"
     ]
    }
   ],
   "source": [
    "#Ques2:\n",
    "from sys import argv # argument variable\n",
    "NameofFile=argv\n",
    "\n",
    "print('Name of File is :', NameofFile)\n",
    "\n",
    "while True:\n",
    "    try:\n",
    "        file = open(NameofFile,'r')\n",
    "        content = file.read()\n",
    "        print(content)\n",
    "        file.close()\n",
    "        break\n",
    "    except:\n",
    "        print('Name of the file is not correct.')\n",
    "        chance = input('Do you want to try one more time (Y/N)?')\n",
    "        if(chance=='Y'):\n",
    "            NameofFile = input('Please enter the name of the correct file :')\n",
    "        else:\n",
    "            break\n",
    "print('Successfully open and read the file.')"
   ]
  },
  {
   "cell_type": "code",
   "execution_count": 3,
   "metadata": {},
   "outputs": [
    {
     "name": "stdout",
     "output_type": "stream",
     "text": [
      "Please enter the number: 67234\n",
      "<class 'str'>\n",
      "\n"
     ]
    },
    {
     "ename": "Exception",
     "evalue": "Please provide only four digit number && Please is too long/short",
     "output_type": "error",
     "traceback": [
      "\u001b[0;31m---------------------------------------------------------------------------\u001b[0m",
      "\u001b[0;31mException\u001b[0m                                 Traceback (most recent call last)",
      "\u001b[0;32m<ipython-input-3-66c689067d35>\u001b[0m in \u001b[0;36m<module>\u001b[0;34m\u001b[0m\n\u001b[1;32m      5\u001b[0m     \u001b[0;32mif\u001b[0m\u001b[0;34m(\u001b[0m\u001b[0mlen\u001b[0m\u001b[0;34m(\u001b[0m\u001b[0mnum\u001b[0m\u001b[0;34m)\u001b[0m\u001b[0;34m!=\u001b[0m\u001b[0;36m7\u001b[0m\u001b[0;34m)\u001b[0m\u001b[0;34m:\u001b[0m\u001b[0;34m\u001b[0m\u001b[0;34m\u001b[0m\u001b[0m\n\u001b[1;32m      6\u001b[0m         \u001b[0mprint\u001b[0m\u001b[0;34m(\u001b[0m\u001b[0;34m)\u001b[0m\u001b[0;34m\u001b[0m\u001b[0;34m\u001b[0m\u001b[0m\n\u001b[0;32m----> 7\u001b[0;31m         \u001b[0;32mraise\u001b[0m \u001b[0mException\u001b[0m\u001b[0;34m(\u001b[0m\u001b[0;34m'Please provide only four digit number && Please is too long/short'\u001b[0m\u001b[0;34m)\u001b[0m\u001b[0;34m\u001b[0m\u001b[0;34m\u001b[0m\u001b[0m\n\u001b[0m\u001b[1;32m      8\u001b[0m     \u001b[0;32melse\u001b[0m\u001b[0;34m:\u001b[0m\u001b[0;34m\u001b[0m\u001b[0;34m\u001b[0m\u001b[0m\n\u001b[1;32m      9\u001b[0m         \u001b[0mprint\u001b[0m\u001b[0;34m(\u001b[0m\u001b[0;34m'Entered number is perfect.'\u001b[0m\u001b[0;34m)\u001b[0m\u001b[0;34m\u001b[0m\u001b[0;34m\u001b[0m\u001b[0m\n",
      "\u001b[0;31mException\u001b[0m: Please provide only four digit number && Please is too long/short"
     ]
    }
   ],
   "source": [
    "#Ques3:\n",
    "num = str(input('Please enter the number: '))\n",
    "print(type(num))\n",
    "while True:\n",
    "    if(len(num)!=7):\n",
    "        print()\n",
    "        raise Exception('Please provide only four digit number && Please is too long/short')\n",
    "    else:\n",
    "        print('Entered number is perfect.')\n",
    "        break"
   ]
  },
  {
   "cell_type": "code",
   "execution_count": null,
   "metadata": {},
   "outputs": [
    {
     "name": "stdout",
     "output_type": "stream",
     "text": [
      "Please enter the Username : vertika\n",
      "Please enter the Password: Pythonclass\n",
      "Please re-type the password: vartika\n",
      "Entered password is not correct.\n",
      "Please enter the password again : pythonclass\n",
      "Access Granted\n",
      "Entered password is not correct.\n",
      "Please enter the password again : pythonclass\n",
      "Access Granted\n",
      "Entered password is not correct.\n"
     ]
    }
   ],
   "source": [
    "#Ques4:\n",
    "s_username = 'vartika'\n",
    "s_password = 'pythonclass'\n",
    "    \n",
    "Username=input('Please enter the Username : ')\n",
    "Password=input('Please enter the Password: ')\n",
    "Retype_Password = input('Please re-type the password: ')\n",
    "\n",
    "for i in range(6):\n",
    "    if(Password!='s_password'):\n",
    "        print('Entered password is not correct.')\n",
    "        trial = input('Please enter the password again : ')\n",
    "        print('Access Granted')\n",
    "    else:\n",
    "        print('Access denied')"
   ]
  },
  {
   "cell_type": "code",
   "execution_count": null,
   "metadata": {},
   "outputs": [],
   "source": []
  }
 ],
 "metadata": {
  "kernelspec": {
   "display_name": "Python 3",
   "language": "python",
   "name": "python3"
  },
  "language_info": {
   "codemirror_mode": {
    "name": "ipython",
    "version": 3
   },
   "file_extension": ".py",
   "mimetype": "text/x-python",
   "name": "python",
   "nbconvert_exporter": "python",
   "pygments_lexer": "ipython3",
   "version": "3.8.3"
  }
 },
 "nbformat": 4,
 "nbformat_minor": 4
}
