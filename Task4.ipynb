{
 "cells": [
  {
   "cell_type": "code",
   "execution_count": 1,
   "metadata": {},
   "outputs": [
    {
     "name": "stdout",
     "output_type": "stream",
     "text": [
      "Enter the stringpython\n",
      "nohtyp\n"
     ]
    }
   ],
   "source": [
    "#Ques1:\n",
    "def USIN():\n",
    "    str1=input(\"Enter the string\")\n",
    "    print(str1[::-1])\n",
    "\n",
    "USIN()"
   ]
  },
  {
   "cell_type": "code",
   "execution_count": 2,
   "metadata": {},
   "outputs": [
    {
     "name": "stdout",
     "output_type": "stream",
     "text": [
      "Python Online Sch\n",
      "upper: 3\n",
      "lower: 12\n"
     ]
    }
   ],
   "source": [
    "#Ques2:\n",
    "def upper_lower(str1):\n",
    "    case={\"upper\":0,\"lower\":0}\n",
    "    for i in str1:\n",
    "        if i.isupper():\n",
    "            case['upper']=case['upper']+1\n",
    "        if i.islower():\n",
    "            case['lower']=case['lower']+1\n",
    "    print(str1)\n",
    "    print('upper:',case['upper'])\n",
    "    print('lower:',case['lower'])\n",
    "\n",
    "upper_lower('Python Online Sch')"
   ]
  },
  {
   "cell_type": "code",
   "execution_count": 3,
   "metadata": {},
   "outputs": [
    {
     "name": "stdout",
     "output_type": "stream",
     "text": [
      "Hello world\n",
      "Practice makes perfect\n",
      "HELLO WORLD\n",
      "PRACTICE MAKES PERFECT\n"
     ]
    }
   ],
   "source": [
    "#Ques5:\n",
    "def seq_of_lines(str1,str2):\n",
    "    print(str1)\n",
    "    print(str2)\n",
    "    print(str1.upper())\n",
    "    print(str2.upper())\n",
    "\n",
    "seq_of_lines('Hello world','Practice makes perfect')"
   ]
  },
  {
   "cell_type": "code",
   "execution_count": 4,
   "metadata": {},
   "outputs": [
    {
     "name": "stdout",
     "output_type": "stream",
     "text": [
      "Sum =  30\n"
     ]
    }
   ],
   "source": [
    "#Ques6:\n",
    "def calculateSum (a,b):\n",
    "    s = int(a) + int(b)# print sum\n",
    "    return(s)\n",
    "\n",
    "num1 = \"10\"\n",
    "num2 = \"20\"\n",
    "\n",
    "sum = calculateSum (num1, num2)\n",
    "print(\"Sum = \", sum)"
   ]
  },
  {
   "cell_type": "code",
   "execution_count": 6,
   "metadata": {},
   "outputs": [],
   "source": [
    "#Ques7:\n",
    "def function1():\n",
    "    str1=input('Enter the string1')\n",
    "    str2=input('Enter the string2')\n",
    "    if len(str1)>len(str2):\n",
    "        print(len(str1))\n",
    "    else:\n",
    "        print(len(str2))\n",
    "    if len(str1)==len(str2):\n",
    "        print(str1)\n",
    "        print(str2)"
   ]
  },
  {
   "cell_type": "code",
   "execution_count": null,
   "metadata": {},
   "outputs": [],
   "source": [
    "#Ques8:\n",
    "def function2(list1=[]):\n",
    "    list1=list(range(0,21))\n",
    "    for i in list1:\n",
    "        a=i*i\n",
    "        list1.append(a)\n",
    "    print(list1)\n",
    "    tup1=tuple(list1)\n",
    "    print(tup1)\n",
    "function2([0,1,2,3,4,5,6,7,8,9,10,11,12,13,14,15,16,17,18,18,20])"
   ]
  },
  {
   "cell_type": "code",
   "execution_count": null,
   "metadata": {},
   "outputs": [],
   "source": [
    "#Ques9:\n",
    "def showNumbers(limit=[]):\n",
    "    limit=list(range(0,7))\n",
    "    for i in limit:\n",
    "        if i%2==0:\n",
    "            print(i,'EVEN')\n",
    "        else:\n",
    "            print(i,'ODD')\n",
    "showNumbers([0,1,2,3,4,5,6])"
   ]
  },
  {
   "cell_type": "code",
   "execution_count": null,
   "metadata": {},
   "outputs": [],
   "source": [
    "#Ques10:\n",
    "l=list(range(1,21))\n",
    "result=filter(lambda x:x%2==0,l)\n",
    "print(list(result))"
   ]
  },
  {
   "cell_type": "code",
   "execution_count": null,
   "metadata": {},
   "outputs": [],
   "source": [
    "#Ques11:\n",
    "l=list(range(1,11))\n",
    "result=map(lambda x:x**2,l)\n",
    "print(list(result))\n",
    "\n",
    "result=[1,4,9,16,25,36,49,64,81,100] #what if I don't mention result?\n",
    "even_num=filter(lambda x:x%2==0,result)\n",
    "print(list(even_num))"
   ]
  },
  {
   "cell_type": "code",
   "execution_count": null,
   "metadata": {},
   "outputs": [],
   "source": [
    "#Ques12:\n",
    "try:\n",
    "    a=5\n",
    "    b=0\n",
    "    print(a/b)\n",
    "except:\n",
    "    print('You cannot divide any number by 0')"
   ]
  },
  {
   "cell_type": "code",
   "execution_count": null,
   "metadata": {},
   "outputs": [],
   "source": [
    "#Ques14:\n",
    "def foo():\n",
    "    try:\n",
    "        return 1\n",
    "    finally:\n",
    "        return 2\n",
    "k = foo()\n",
    "print(k)\n",
    "\n",
    "def a():\n",
    "    try:\n",
    "        f(x,4)\n",
    "    finally:\n",
    "        print('after f')\n",
    "    print('after f?')\n",
    "a()"
   ]
  }
 ],
 "metadata": {
  "kernelspec": {
   "display_name": "Python 3",
   "language": "python",
   "name": "python3"
  },
  "language_info": {
   "codemirror_mode": {
    "name": "ipython",
    "version": 3
   },
   "file_extension": ".py",
   "mimetype": "text/x-python",
   "name": "python",
   "nbconvert_exporter": "python",
   "pygments_lexer": "ipython3",
   "version": "3.8.3"
  }
 },
 "nbformat": 4,
 "nbformat_minor": 4
}
