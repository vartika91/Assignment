{
 "cells": [
  {
   "cell_type": "code",
   "execution_count": null,
   "metadata": {},
   "outputs": [],
   "source": [
    "#Ques1:\n",
    "list1=[1,3,4,5.3,8.2,2+9j,7+1j,'Vartika','Python','Training']"
   ]
  },
  {
   "cell_type": "code",
   "execution_count": null,
   "metadata": {},
   "outputs": [],
   "source": [
    "#Ques2:\n",
    "list1=[1,2,3,4,5]\n",
    "#Slicing Structure\n",
    "print(list1[:]) #print the entire list\n",
    "print(list1[0:5]) #fetch the items from index=0 to index=4\n",
    "print(list1[:3]) #fetch items from index=0 to index=3 (doubt??)\n",
    "print(list1[2:]) #fetch items from index=2 till index=4"
   ]
  },
  {
   "cell_type": "code",
   "execution_count": null,
   "metadata": {},
   "outputs": [],
   "source": [
    "#Ques3: Write a program to get the sum and multiply of all the items in a given list.\n",
    "list1=[1,2,3,4,5,6]\n",
    "print(sum(list1)) #sum of all the items\n",
    "\n",
    "#multiply of all the items\n"
   ]
  },
  {
   "cell_type": "code",
   "execution_count": null,
   "metadata": {},
   "outputs": [],
   "source": [
    "#Ques4: Find the largest and smallest number from a given list.\n",
    "list1=[1,2,3,4,5,6]\n",
    "print(max(list1)) #largest number from a given list\n",
    "print(min(list1)) #smaller number from a given list\n",
    "print(len(list1)) "
   ]
  },
  {
   "cell_type": "code",
   "execution_count": null,
   "metadata": {},
   "outputs": [],
   "source": [
    "#Ques5: Create a new list which contains the specified numbers after removing the even numbers from a predefined list.\n",
    "list1=[1,2,3,4,5,6,7,8,9,10]\n",
    "list2=[]\n",
    "for i in list1:\n",
    "    if i%2!=0:\n",
    "        list2.append(i)\n",
    "print(list2)\n"
   ]
  },
  {
   "cell_type": "code",
   "execution_count": null,
   "metadata": {},
   "outputs": [],
   "source": [
    "#Ques6:Create a list of first and last 5 elements where the values are square of numbers between 1 and 30 (both included). \n",
    "\n",
    "list1=[]\n",
    "list2=[]\n",
    "for i in range(1,6):\n",
    "    a=i*i\n",
    "    list1.append(a)\n",
    "print(list1)\n",
    "for j in range(25,31):\n",
    "    b=j*j\n",
    "    list2.append(b)\n",
    "print(list2)\n",
    "  #how to print in list format?  "
   ]
  },
  {
   "cell_type": "code",
   "execution_count": null,
   "metadata": {},
   "outputs": [],
   "source": [
    "#Ques7:Write a program to replace the last element in a list with another list. \n",
    "#Sample data: [[1,3,5,7,9,10],[2,4,6,8]] \n",
    "#Expected output: [1,3,5,7,9,2,4,6,8] \n",
    "\n",
    "matrix=[[1,3,5,7,9,10],[2,4,6,8]]\n"
   ]
  },
  {
   "cell_type": "code",
   "execution_count": null,
   "metadata": {},
   "outputs": [],
   "source": [
    "#Ques8:Create a new dictionary by concatenating the following two dictionaries: \n",
    "\n",
    "a={1:10,2:20} \n",
    "\n",
    "b={3:30,4:40} \n",
    "\n",
    "a.update(b)\n",
    "print(a)"
   ]
  },
  {
   "cell_type": "code",
   "execution_count": null,
   "metadata": {},
   "outputs": [],
   "source": [
    "#ques9:Create a dictionary that contains a number (between 1 and n) in the form(x,x*x). \n",
    "\n",
    "#Sample data (n=5) \n",
    "\n",
    "#Expected Output: {1:1,2:4,3:9,4:16,5:25} \n",
    "\n",
    "dict1={}\n",
    "for i in range(1,6):\n",
    "    dict1[i]=i*i\n",
    "print(dict1)"
   ]
  },
  {
   "cell_type": "code",
   "execution_count": null,
   "metadata": {},
   "outputs": [],
   "source": [
    "#Ques10:Write a program which accepts a sequence of comma-separated numbers from console and generate a list and a tuple which contains every number. Suppose the following input is supplied to the program: \n",
    "\n",
    "34,67,55,33,12,98 \n",
    "\n",
    "The output should be: \n",
    "\n",
    "[‘34’,’67’,’55’,’33’,’12’,’98’] \n",
    "\n",
    "(‘34’,’67’,’55’,’33’,’12’,’98’) \n",
    "\n",
    " \n"
   ]
  },
  {
   "cell_type": "code",
   "execution_count": null,
   "metadata": {},
   "outputs": [],
   "source": [
    "#Extra Activity on Data Structures"
   ]
  },
  {
   "cell_type": "code",
   "execution_count": null,
   "metadata": {},
   "outputs": [],
   "source": [
    "#Ques1 and Ques2 done in the starting"
   ]
  },
  {
   "cell_type": "code",
   "execution_count": null,
   "metadata": {},
   "outputs": [],
   "source": [
    "#Ques3:Create a list of given structure and run  \n",
    "\n",
    "x=[100,200,300,400,500,[1,2,3,4,5,[10,20,30,40,50],6,7,8,9],600,700,800] \n",
    "\n",
    "#Access list [1, 2, 3, 4, 5] \n",
    "\n",
    "#Access list [600,  700] \n",
    "\n",
    "#Access list [100, 300, 500, 600, 800] \n",
    "\n",
    "#Access list [[800, 700, 600, [1, 2, 3, 4, 5, [10, 20, 30, 40, 50], 6, 7, 8, 9], 500, 400, 300, 200, 100]:] \n",
    "\n",
    "#Access list [10] \n",
    "\n",
    "#Access list [ ] "
   ]
  },
  {
   "cell_type": "code",
   "execution_count": null,
   "metadata": {},
   "outputs": [],
   "source": [
    "#Ques4:Create a list of thousand number using range and xrange and see the difference between each other. \n",
    "list1=list(range(1,1001))\n",
    "print(list1)\n",
    "\n",
    "list2=list(xrange(1,1001))\n",
    "print(list2)"
   ]
  },
  {
   "cell_type": "code",
   "execution_count": null,
   "metadata": {},
   "outputs": [],
   "source": [
    "#Ques6:Write a program in Python to iterate through the list of numbers in the range of 1,100 and print the number which is divisible by 3 and a multiple of 2. \n",
    "list1=list(range(1,100))\n",
    "list2=[]\n",
    "for i in list1:    \n",
    "    if i%3==0 and i%2==0:\n",
    "        list2.append(i)\n",
    "print(list2)\n"
   ]
  },
  {
   "cell_type": "code",
   "execution_count": null,
   "metadata": {},
   "outputs": [],
   "source": [
    "#Ques7:Write a program in Python to reverse a string and print only the vowel alphabet if exist in the string with their index. \n",
    " #1 Reverse a string\n",
    "#2 Print only vowel alphabet if exist with their index\n",
    "str1=\"Online\"\n",
    "#rint(str1[::-1])\n",
    "\n",
    "if 'a' in str1:\n",
    "    print(str1.find(a))\n",
    "else if \"e\" in str1:\n",
    "    print(str1.find(e))\n",
    "elif 'i' in str1:\n",
    "    print(str1.find(i))\n",
    "elif 'o' in str1:\n",
    "    print(str1.find(o))\n",
    "elif 'u' in str1:\n",
    "    print(str1.find(u))\n",
    "    \n"
   ]
  },
  {
   "cell_type": "code",
   "execution_count": null,
   "metadata": {},
   "outputs": [],
   "source": [
    "#Ques10:Write a program in Python to complete the following task: \n",
    "\n",
    "#Create two different list as in even_list and odd_list \n",
    "#Ask user to enter the number in the range of 1,50 and make sure if the entered number is even append it to the even_list and if the entered number is odd append it to the odd list. \n",
    "#Keep that in mind you can only add 5 items in each list \n",
    "#Make sure once you entered the total 5 element calculate the sum of the list and return the maximum out of the list. \n",
    "\n",
    "list_even=[]\n",
    "list_odd=[]\n",
    "#number=int(input(\"Enter the number between 1 and 50:\"))\n",
    "for number in range(1,11):\n",
    "    if number%2==0:\n",
    "        list_even.append(number)\n",
    "    elif number%2!=0:\n",
    "        list_odd.append(number)\n",
    "print(\"Even list\",list_even)\n",
    "print(\"Odd list\",list_odd)\n",
    "list1=list_even+list_odd\n",
    "print(list1)\n",
    "print(\"Maximum out of the list:\",max(list1))\n",
    "print(\"Sum of the list:\",sum(list1))\n",
    "    \n",
    "\n"
   ]
  },
  {
   "cell_type": "code",
   "execution_count": null,
   "metadata": {},
   "outputs": [],
   "source": [
    "#Ques11:Write a program to find out the occurrence of a specific word from an alphanumeric statement. Example: 12abcbacbaba344ab   \n",
    "\n",
    "#Output: a=5 b=5 c=2 make sure you should avoid the numbers in you logic \n",
    "\n",
    "string1=\"12abcbacbaba344ab \"\n",
    "print(string1.count('a',0,len(string1)))\n",
    "print(string1.count('b',0,len(string1)))\n",
    "print(string1.count('c',0,len(string1)))\n"
   ]
  },
  {
   "cell_type": "code",
   "execution_count": null,
   "metadata": {},
   "outputs": [],
   "source": [
    "#Ques12:Generate and print another tuple whose values are even numbers in the given tuple (1,2,3,4,5,6,7,8,9,10). \n",
    "tuple1=(1,2,3,4,5,6,7,8,9,10)\n",
    "list_from_tuple=list(tuple1)\n",
    "list2=[]\n",
    "for i in list_from_tuple:\n",
    "    if i%2==0:\n",
    "        list2.append(i)\n",
    "print(list2)\n",
    "tuple_from_list=tuple(list2)\n",
    "print(tuple_from_list)\n",
    "\n"
   ]
  },
  {
   "cell_type": "code",
   "execution_count": null,
   "metadata": {},
   "outputs": [],
   "source": []
  }
 ],
 "metadata": {
  "kernelspec": {
   "display_name": "Python 3",
   "language": "python",
   "name": "python3"
  },
  "language_info": {
   "codemirror_mode": {
    "name": "ipython",
    "version": 3
   },
   "file_extension": ".py",
   "mimetype": "text/x-python",
   "name": "python",
   "nbconvert_exporter": "python",
   "pygments_lexer": "ipython3",
   "version": "3.8.3"
  }
 },
 "nbformat": 4,
 "nbformat_minor": 4
}
