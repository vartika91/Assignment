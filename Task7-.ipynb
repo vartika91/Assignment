{
 "cells": [
  {
   "cell_type": "code",
   "execution_count": 2,
   "metadata": {},
   "outputs": [
    {
     "name": "stdout",
     "output_type": "stream",
     "text": [
      "123,100,140\n",
      "20\n",
      "20,18\n",
      "20,18,22\n"
     ]
    }
   ],
   "source": [
    "#Ques1:\n",
    "import math\n",
    "C=50\n",
    "H=30\n",
    "#D = input('Enter the value: ')\n",
    "#D = D.split(',')\n",
    "List_D = []\n",
    "res = [x for x in input().split(',')]\n",
    "for D in res:\n",
    "    List_D.append(str(round(math.sqrt(2*C*float(D)/H))))\n",
    "    print(','.join(List_D))"
   ]
  },
  {
   "cell_type": "code",
   "execution_count": 3,
   "metadata": {},
   "outputs": [
    {
     "name": "stdout",
     "output_type": "stream",
     "text": [
      "0\n",
      "9\n"
     ]
    }
   ],
   "source": [
    "#Ques2:\n",
    "class Shape:\n",
    "    def area(self,len=0):\n",
    "        res=len*len\n",
    "        return res\n",
    "class Square(Shape):\n",
    "    def _init_(self,length):\n",
    "      self.length=length\n",
    "    def area(self,len):\n",
    "        res = len*len \n",
    "        return res\n",
    "obj_S1 = Shape()\n",
    "print(obj_S1.area())\n",
    "obj_S2 = Square()\n",
    "\n",
    "print(obj_S2.area(3))"
   ]
  },
  {
   "cell_type": "code",
   "execution_count": 4,
   "metadata": {},
   "outputs": [
    {
     "ename": "AttributeError",
     "evalue": "'Derived_Test' object has no attribute 'x'",
     "output_type": "error",
     "traceback": [
      "\u001b[0;31m---------------------------------------------------------------------------\u001b[0m",
      "\u001b[0;31mAttributeError\u001b[0m                            Traceback (most recent call last)",
      "\u001b[0;32m<ipython-input-4-01685a6afd89>\u001b[0m in \u001b[0;36m<module>\u001b[0;34m\u001b[0m\n\u001b[1;32m     19\u001b[0m     \u001b[0mprint\u001b[0m\u001b[0;34m(\u001b[0m\u001b[0mb\u001b[0m\u001b[0;34m.\u001b[0m\u001b[0mx\u001b[0m\u001b[0;34m,\u001b[0m\u001b[0mb\u001b[0m\u001b[0;34m.\u001b[0m\u001b[0my\u001b[0m\u001b[0;34m)\u001b[0m\u001b[0;34m\u001b[0m\u001b[0;34m\u001b[0m\u001b[0m\n\u001b[1;32m     20\u001b[0m \u001b[0;34m\u001b[0m\u001b[0m\n\u001b[0;32m---> 21\u001b[0;31m \u001b[0mmain\u001b[0m\u001b[0;34m(\u001b[0m\u001b[0;34m)\u001b[0m\u001b[0;34m\u001b[0m\u001b[0;34m\u001b[0m\u001b[0m\n\u001b[0m",
      "\u001b[0;32m<ipython-input-4-01685a6afd89>\u001b[0m in \u001b[0;36mmain\u001b[0;34m()\u001b[0m\n\u001b[1;32m     17\u001b[0m     \u001b[0mb\u001b[0m \u001b[0;34m=\u001b[0m \u001b[0mDerived_Test\u001b[0m\u001b[0;34m(\u001b[0m\u001b[0;34m)\u001b[0m\u001b[0;34m\u001b[0m\u001b[0;34m\u001b[0m\u001b[0m\n\u001b[1;32m     18\u001b[0m \u001b[0;34m\u001b[0m\u001b[0m\n\u001b[0;32m---> 19\u001b[0;31m     \u001b[0mprint\u001b[0m\u001b[0;34m(\u001b[0m\u001b[0mb\u001b[0m\u001b[0;34m.\u001b[0m\u001b[0mx\u001b[0m\u001b[0;34m,\u001b[0m\u001b[0mb\u001b[0m\u001b[0;34m.\u001b[0m\u001b[0my\u001b[0m\u001b[0;34m)\u001b[0m\u001b[0;34m\u001b[0m\u001b[0;34m\u001b[0m\u001b[0m\n\u001b[0m\u001b[1;32m     20\u001b[0m \u001b[0;34m\u001b[0m\u001b[0m\n\u001b[1;32m     21\u001b[0m \u001b[0mmain\u001b[0m\u001b[0;34m(\u001b[0m\u001b[0;34m)\u001b[0m\u001b[0;34m\u001b[0m\u001b[0;34m\u001b[0m\u001b[0m\n",
      "\u001b[0;31mAttributeError\u001b[0m: 'Derived_Test' object has no attribute 'x'"
     ]
    }
   ],
   "source": [
    "#Ques4:\n",
    "#1\n",
    "class Test: #first create a class test\n",
    "\n",
    "    def __init__(self): #constructor used to assign values to an instance when created an object of class.\n",
    "\n",
    "        self.x = 0 \n",
    "\n",
    "class Derived_Test(Test): #Derived_Test is declared as subclass of super class Test\n",
    "\n",
    "    def __init__(self): #not declared x variable but calling in print statement. Thus, getting error \n",
    "\n",
    "        self.y = 1 \n",
    "\n",
    "def main(): \n",
    "\n",
    "    b = Derived_Test() \n",
    "\n",
    "    print(b.x,b.y) \n",
    "\n",
    "main() \n"
   ]
  },
  {
   "cell_type": "code",
   "execution_count": 5,
   "metadata": {},
   "outputs": [
    {
     "name": "stdout",
     "output_type": "stream",
     "text": [
      "1 2\n"
     ]
    }
   ],
   "source": [
    "#2\n",
    "class A:  # super class\n",
    "\n",
    "\n",
    "    def __init__(self, x= 1): #constructor is used to assign value to an instance when created a object.\n",
    "\n",
    "\n",
    "        self.x = x \n",
    "\n",
    "class der(A):  #sub class\n",
    "\n",
    "    def __init__(self,y = 2): \n",
    "\n",
    "        super().__init__() # calling super class which is A to pass value of x by creating an object of der subclass.\n",
    "\n",
    "\n",
    "        self.y = y \n",
    "\n",
    "def main(): \n",
    "\n",
    "    obj = der() \n",
    "\n",
    "    print(obj.x, obj.y) \n",
    "\n",
    "main()\n"
   ]
  },
  {
   "cell_type": "code",
   "execution_count": 6,
   "metadata": {},
   "outputs": [
    {
     "name": "stdout",
     "output_type": "stream",
     "text": [
      "3 1\n"
     ]
    }
   ],
   "source": [
    "#3\n",
    "class A: # super class\n",
    "\n",
    "    def __init__(self,x): \n",
    "\n",
    "        self.x = x \n",
    "\n",
    "    def count(self,x): \n",
    "\n",
    "        self.x = self.x+1 \n",
    "\n",
    "class B(A): #subclass(B) of Superclass(A)\n",
    "\n",
    "\n",
    "    def __init__(self, y=0): \n",
    "\n",
    "        A.__init__(self, 3) #calling super class(A) to pass the value of x\n",
    "\n",
    "\n",
    "        self.y = y \n",
    "\n",
    "    def count(self): \n",
    "\n",
    "        self.y += 1      \n",
    "\n",
    "def main(): \n",
    "\n",
    "    obj = B() # create an object of Sub class B\n",
    "\n",
    "    obj.count() # calling count functio to call the value of x and  y.\n",
    "\n",
    "    print(obj.x, obj.y) # print value of x by calling an object of a sub class(B)\n",
    "\n",
    "main() #calling the main function\n"
   ]
  },
  {
   "cell_type": "code",
   "execution_count": 7,
   "metadata": {},
   "outputs": [
    {
     "name": "stdout",
     "output_type": "stream",
     "text": [
      "30\n",
      "60\n"
     ]
    }
   ],
   "source": [
    "#4\n",
    "class A: \n",
    "\n",
    "    def __init__(self): \n",
    "\n",
    "        self.multiply(15) #pass the value of i as 15.\n",
    "\n",
    "        print(self.i) \n",
    "\n",
    "  \n",
    "\n",
    "    def multiply(self, i): #pass the variable i\n",
    "\n",
    "        self.i = 4 * i; # multiply the value of i to 4\n",
    "\n",
    "class B(A): # define subclass B of super Class A\n",
    "\n",
    "    def __init__(self): \n",
    "\n",
    "        super().__init__() # calling a super function \n",
    "\n",
    "  \n",
    "\n",
    "    def multiply(self, i): # define multiply functionn in sub class B.\n",
    "\n",
    "        self.i = 2 * i; # multiply the value of i which is 15 to 2.\n",
    "\n",
    "obj = B()  # create an object of subclass. So,the output is 15*2=30\n",
    "\n",
    "#have to create an object of super class A\n",
    "obj=A() # output is 15*4=60"
   ]
  },
  {
   "cell_type": "code",
   "execution_count": 10,
   "metadata": {},
   "outputs": [
    {
     "name": "stdout",
     "output_type": "stream",
     "text": [
      "Time is 4 hours and 10 minutes\n",
      "250 minutes\n"
     ]
    },
    {
     "ename": "AttributeError",
     "evalue": "'NoneType' object has no attribute 'displayTime'",
     "output_type": "error",
     "traceback": [
      "\u001b[0;31m---------------------------------------------------------------------------\u001b[0m",
      "\u001b[0;31mAttributeError\u001b[0m                            Traceback (most recent call last)",
      "\u001b[0;32m<ipython-input-10-86753bb4e736>\u001b[0m in \u001b[0;36m<module>\u001b[0;34m\u001b[0m\n\u001b[1;32m     26\u001b[0m \u001b[0;34m\u001b[0m\u001b[0m\n\u001b[1;32m     27\u001b[0m \u001b[0mc\u001b[0m\u001b[0;34m.\u001b[0m\u001b[0mdisplayTime\u001b[0m\u001b[0;34m(\u001b[0m\u001b[0;34m)\u001b[0m\u001b[0;34m\u001b[0m\u001b[0;34m\u001b[0m\u001b[0m\n\u001b[0;32m---> 28\u001b[0;31m \u001b[0mc\u001b[0m\u001b[0;34m.\u001b[0m\u001b[0mdisplayMinutes\u001b[0m\u001b[0;34m(\u001b[0m\u001b[0;34m)\u001b[0m\u001b[0;34m.\u001b[0m\u001b[0mdisplayTime\u001b[0m\u001b[0;34m(\u001b[0m\u001b[0;34m)\u001b[0m\u001b[0;34m\u001b[0m\u001b[0;34m\u001b[0m\u001b[0m\n\u001b[0m\u001b[1;32m     29\u001b[0m \u001b[0mc\u001b[0m\u001b[0;34m.\u001b[0m\u001b[0mdisplayMinutes\u001b[0m\u001b[0;34m(\u001b[0m\u001b[0;34m)\u001b[0m\u001b[0;34m\u001b[0m\u001b[0;34m\u001b[0m\u001b[0m\n",
      "\u001b[0;31mAttributeError\u001b[0m: 'NoneType' object has no attribute 'displayTime'"
     ]
    }
   ],
   "source": [
    "#Ques5:\n",
    "class  Time(object):\n",
    "\n",
    "    def __init__(self, hours, minutes):\n",
    "        self.hours = hours\n",
    "        self.minutes = minutes\n",
    "\n",
    "    def addTime(t1, t2):\n",
    "        sum= Time(0, 0) \n",
    "        sum.hours = t1.hours + t2.hours \n",
    "        sum.minutes = t1.minutes + t2.minutes \n",
    "        while sum.minutes >= 60:  \n",
    "            sum.hours= sum.hours +1\n",
    "            sum.minutes = sum.minutes - 60\n",
    "        return sum\n",
    "\n",
    "    def displayTime(self):\n",
    "        print(\"Time is %d hours and %d minutes\" %(self.hours, self.minutes))\n",
    "\n",
    "    def displayMinutes(self):\n",
    "        print((self.hours * 60) + self.minutes, \"minutes\")\n",
    "\n",
    "a = Time(2, 50)\n",
    "b = Time(1, 20)\n",
    "c = Time.addTime(a,b)\n",
    "\n",
    "c.displayTime()\n",
    "c.displayMinutes().displayTime()\n",
    "c.displayMinutes()"
   ]
  },
  {
   "cell_type": "code",
   "execution_count": null,
   "metadata": {},
   "outputs": [],
   "source": []
  }
 ],
 "metadata": {
  "kernelspec": {
   "display_name": "Python 3",
   "language": "python",
   "name": "python3"
  },
  "language_info": {
   "codemirror_mode": {
    "name": "ipython",
    "version": 3
   },
   "file_extension": ".py",
   "mimetype": "text/x-python",
   "name": "python",
   "nbconvert_exporter": "python",
   "pygments_lexer": "ipython3",
   "version": "3.8.3"
  }
 },
 "nbformat": 4,
 "nbformat_minor": 4
}
