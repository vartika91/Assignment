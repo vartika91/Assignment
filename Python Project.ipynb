{
 "cells": [
  {
   "cell_type": "code",
   "execution_count": null,
   "metadata": {},
   "outputs": [],
   "source": [
    "def riverSizes(matrix):\n",
    "    answer = []\n",
    "\n",
    "    def check_river(i, j, current_river=0):\n",
    "        if matrix[i][j] == 1:\n",
    "            current_river += 1\n",
    "            matrix[i][j] = 0\n",
    "            # print \"River at {},{}. Size {}\".format(i,j,current_river)\n",
    "            if i+1 < len(matrix):\n",
    "                current_river = check_river(i + 1, j, current_river)\n",
    "            if j+1 < len(matrix[i]):\n",
    "                current_river = check_river(i, j + 1, current_river)\n",
    "            if i-1 >= 0:\n",
    "                current_river = check_river(i - 1, j, current_river)\n",
    "            if j-1 >= 0:\n",
    "                current_river = check_river(i, j - 1, current_river)\n",
    "        return current_river\n",
    "\n",
    "\n",
    "    for i in range(0,len(matrix)):\n",
    "        for j in range(0,len(matrix[i])):\n",
    "            if matrix[i][j] == 1:\n",
    "                answer.append(check_river(i, j))\n",
    "    return answer\n",
    "\n",
    "mtr=[\n",
    "    [0,1,1,1,0],\n",
    "    [1,1,0,0,1]\n",
    "]\n",
    "print(riverSizes(mtr))"
   ]
  },
  {
   "cell_type": "code",
   "execution_count": null,
   "metadata": {},
   "outputs": [],
   "source": []
  }
 ],
 "metadata": {
  "kernelspec": {
   "display_name": "Python 3",
   "language": "python",
   "name": "python3"
  },
  "language_info": {
   "codemirror_mode": {
    "name": "ipython",
    "version": 3
   },
   "file_extension": ".py",
   "mimetype": "text/x-python",
   "name": "python",
   "nbconvert_exporter": "python",
   "pygments_lexer": "ipython3",
   "version": "3.8.3"
  }
 },
 "nbformat": 4,
 "nbformat_minor": 4
}
