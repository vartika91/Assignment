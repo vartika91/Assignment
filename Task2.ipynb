{
 "cells": [
  {
   "cell_type": "code",
   "execution_count": null,
   "metadata": {},
   "outputs": [],
   "source": [
    "#Ques1:\n",
    "#If a number is divisible by 3 it should print “Consultadd” as a string \n",
    "num=18 #doubt: what if we don't know the number?\n",
    "if num%3==0:\n",
    "    print(\"Consultadd\")\n",
    "    \n",
    "#If a number is divisible by 5 it should print “c” as a string \n",
    "num=25\n",
    "if num%5==0:\n",
    "    print(\"c\")\n",
    "\n",
    "#If a number is divisible by both 3 and 5 its should print “Consultadd Python Training” as a string. \n",
    "num=15\n",
    "if num%3==0 and num%5==0:\n",
    "    print(\"Consultadd Python Training\")\n",
    "    \n"
   ]
  },
  {
   "cell_type": "code",
   "execution_count": null,
   "metadata": {},
   "outputs": [],
   "source": [
    "#Ques2:\n",
    "\n",
    "num1=int(input(\"Enter the first number\"))\n",
    "num2=int(input(\"Enter the second number\"))\n",
    "\n",
    "print(\"which option would you like to choose\")\n",
    "option=input(\"1 - Addition, 2 - Subtraction, 3 - Division,4 - Multiplication,5 - Average \")\n",
    "\n",
    "result=0\n",
    "if option==\"1\":\n",
    "    result=num1+num2\n",
    "    print(result)\n",
    "    if result<0:\n",
    "        print(\"Zsa\")\n",
    "elif option==\"2\":\n",
    "    result=num1-num2\n",
    "    print(result)\n",
    "    if result<0:\n",
    "        print(\"Zsa\")\n",
    "elif option==\"3\":\n",
    "    result=num1/num2\n",
    "    print(result)\n",
    "    if result<0:\n",
    "        print(\"Zsa\")\n",
    "elif option==\"4\":\n",
    "    result=num1*num2\n",
    "    print(result)\n",
    "    if result<0:\n",
    "        print(\"Zsa\")\n",
    "elif option==\"5\":\n",
    "    result=(num1+num2)/2\n",
    "    print(result)\n",
    "    if result<0:\n",
    "        print(\"Zsa\")\n",
    "else:\n",
    "    print(\"option is invalid\")"
   ]
  },
  {
   "cell_type": "code",
   "execution_count": null,
   "metadata": {},
   "outputs": [],
   "source": [
    "#Ques4:If user enters a negative number just break the loop and print “It’s Over” \n",
    "num=int(input(\"Enter the number\"))\n",
    "while num>=0:\n",
    "    print(\"num\")\n",
    "    if num<0:\n",
    "        break\n",
    "        num=num-1\n",
    "print(\"It's Over\")#doubt: When user enter positive number infinite loop is running. What if I don't want infinite loop?\n",
    "\n",
    "#If user enters a positive number just continue in the loop and print “Good Going” \n",
    "num=int(input(\"Enter the number\"))\n",
    "while num>0:\n",
    "    print()\n",
    "    "
   ]
  },
  {
   "cell_type": "code",
   "execution_count": null,
   "metadata": {},
   "outputs": [],
   "source": [
    "#Ques5:Write a program in Python which will find all such numbers which are divisible  by 7 but are not a multiple of 5, between 2000 and 3200. \n",
    "\n",
    "for i in range(2000,3201):\n",
    "    if i%7==0 and i%5!=0:\n",
    "        print(i)\n"
   ]
  },
  {
   "cell_type": "code",
   "execution_count": null,
   "metadata": {},
   "outputs": [],
   "source": [
    "#Ques6:\n",
    "x=123\n",
    "for i in x:\n",
    "    print(i)\n",
    "#Output: It will throw error because in a for loop collection should mentioned.\n",
    "i=0\n",
    "while i<5:\n",
    "    print(i)\n",
    "    i=i+1\n",
    "    if i==3:\n",
    "        break\n",
    "else:\n",
    "    print('error')\n",
    "    \n",
    "#Output: 0,1,2,error------Doubt: Why is it not printing error after coming out of the while loop?\n",
    "\n",
    "count=0 \n",
    "while True: #doubt: how this code is executed?\n",
    "    print(count)\n",
    "    count=count+1\n",
    "    if count>=5:\n",
    "        break\n",
    "#Output: 0 1 2 3 4"
   ]
  },
  {
   "cell_type": "code",
   "execution_count": null,
   "metadata": {},
   "outputs": [],
   "source": [
    "#Ques7:Write a program that prints all the numbers from 0 to 6 except 3 and 6. \n",
    "#Expected output: 0 1 2 4 5 \n",
    "#Note: Use ‘continue’ statement \n",
    "for num in range(0,7):\n",
    "    if num!=3 and num!=6:\n",
    "        print(num)\n",
    "#why to use continue statement?\n",
    "        "
   ]
  },
  {
   "cell_type": "code",
   "execution_count": null,
   "metadata": {},
   "outputs": [],
   "source": [
    "#Ques8:Write a program that accepts a string as an input from user and calculate the number of digits and letters. \n",
    "\n",
    "#Expected output: consul12 \n",
    "\n",
    "#Letters 6 \n",
    "\n",
    "#Digits 2 \n",
    "\n",
    "string=input(\"Enter the string\")\n",
    "print(string)\n",
    "count1=0\n",
    "count2=0\n",
    "for i in string:\n",
    "    if i.isdigit():\n",
    "        count1=count1+1\n",
    "    elif i.isaplha():   #how to calculate count of letters?\n",
    "        count2=count2+1\n",
    "print(\"The number of digits:\",count1)\n",
    "print(\"The number of letters:\",count2)\n",
    "  "
   ]
  }
 ],
 "metadata": {
  "kernelspec": {
   "display_name": "Python 3",
   "language": "python",
   "name": "python3"
  },
  "language_info": {
   "codemirror_mode": {
    "name": "ipython",
    "version": 3
   },
   "file_extension": ".py",
   "mimetype": "text/x-python",
   "name": "python",
   "nbconvert_exporter": "python",
   "pygments_lexer": "ipython3",
   "version": "3.8.3"
  }
 },
 "nbformat": 4,
 "nbformat_minor": 4
}
