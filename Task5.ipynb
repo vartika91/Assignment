{
 "cells": [
  {
   "cell_type": "code",
   "execution_count": 13,
   "metadata": {},
   "outputs": [
    {
     "name": "stdout",
     "output_type": "stream",
     "text": [
      "[1, 2, 4, 5, 7, 8, 10, 11, 13, 14, 16, 17, 19, 20, 22, 23, 25, 26, 28, 29, 31, 32, 34, 35, 37, 38, 40, 41, 43, 44, 46, 47, 49, 50]\n",
      "[0, 7, 14, 21, 28, 35, 42, 49]\n"
     ]
    }
   ],
   "source": [
    "#QUes1:\n",
    "l=list(range(0,51))\n",
    "result=filter(lambda x:x%3!=0,l)\n",
    "print(list(result))\n",
    "result1=filter(lambda x:x%7==0,l)\n",
    "print(list(result1))"
   ]
  },
  {
   "cell_type": "code",
   "execution_count": 11,
   "metadata": {},
   "outputs": [
    {
     "name": "stdout",
     "output_type": "stream",
     "text": [
      "[1, 4, 9, 16, 25, 36]\n"
     ]
    }
   ],
   "source": [
    "#Ques2:\n",
    "'''def mult(l=[]):\n",
    "    for i in range(len(l)):\n",
    "        l[i]=l[i]*l[i]\n",
    "        print(list(l[i]))\n",
    "mult([1,2,3,4,5,6])'''\n",
    "\n",
    "l=[1,2,3,4,5,6]\n",
    "result=map(lambda x:x**2,l)\n",
    "print(list(result))"
   ]
  },
  {
   "cell_type": "code",
   "execution_count": 14,
   "metadata": {},
   "outputs": [
    {
     "name": "stdout",
     "output_type": "stream",
     "text": [
      "['P', 'T', 'H', 'N']\n"
     ]
    }
   ],
   "source": [
    "#Ques3:\n",
    "str1=\"PyTHoN\"\n",
    "result=[x for x in str1 if x.isupper()]\n",
    "print(result)"
   ]
  },
  {
   "cell_type": "code",
   "execution_count": 15,
   "metadata": {},
   "outputs": [
    {
     "name": "stdout",
     "output_type": "stream",
     "text": [
      "[('Smit', 'CSE'), ('Jaya', 'Networking'), ('Rayyan', 'Operating System')]\n",
      "{'Smit': 'CSE', 'Jaya': 'Networking', 'Rayyan': 'Operating System'}\n"
     ]
    }
   ],
   "source": [
    "#Ques4:\n",
    "Student = ['Smit', 'Jaya', 'Rayyan']\n",
    "\n",
    "capital = ['CSE', 'Networking', 'Operating System']\n",
    "\n",
    "print(list(zip(Student,capital)))\n",
    "dict1=dict(zip(Student,capital))\n",
    "print(dict1)"
   ]
  },
  {
   "cell_type": "code",
   "execution_count": 16,
   "metadata": {},
   "outputs": [
    {
     "name": "stdout",
     "output_type": "stream",
     "text": [
      "gniniarT ddatlusnoC\n"
     ]
    }
   ],
   "source": [
    "#Ques6:\n",
    "def function3():\n",
    "    str1=\"Consultadd Training\"\n",
    "    n=str1[::-1]\n",
    "    yield(n)\n",
    "res=function3()\n",
    "print(next(res))"
   ]
  },
  {
   "cell_type": "code",
   "execution_count": null,
   "metadata": {},
   "outputs": [],
   "source": [
    "#Ques7:\n",
    "def div(a,b): #existing function\n",
    "    print(a/b)   \n",
    "\n",
    "def smart_div(func): #creating a new function to add extra features in the existing feature\n",
    "    if a<b: # numerator should always be greater than denominator and if not then swap them\n",
    "        a,b=b,a\n",
    "        return func(a,b)\n",
    "    return inner\n",
    "div=smart_div(div)\n",
    "div(2,4)"
   ]
  },
  {
   "cell_type": "code",
   "execution_count": null,
   "metadata": {},
   "outputs": [],
   "source": []
  }
 ],
 "metadata": {
  "kernelspec": {
   "display_name": "Python 3",
   "language": "python",
   "name": "python3"
  },
  "language_info": {
   "codemirror_mode": {
    "name": "ipython",
    "version": 3
   },
   "file_extension": ".py",
   "mimetype": "text/x-python",
   "name": "python",
   "nbconvert_exporter": "python",
   "pygments_lexer": "ipython3",
   "version": "3.8.3"
  }
 },
 "nbformat": 4,
 "nbformat_minor": 4
}
